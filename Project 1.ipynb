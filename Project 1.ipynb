{
 "cells": [
  {
   "cell_type": "code",
   "execution_count": 1,
   "id": "0a3fbaf2",
   "metadata": {},
   "outputs": [],
   "source": [
    "import matplotlib.pyplot as plt\n",
    "import numpy as np\n",
    "import pandas as pd\n",
    "import math\n",
    "import time"
   ]
  },
  {
   "cell_type": "code",
   "execution_count": 2,
   "id": "d207bc78",
   "metadata": {},
   "outputs": [],
   "source": [
    "def InsertionSort(array):\n",
    "    \n",
    "    comparisons = 0\n",
    "    \n",
    "    for i in range(1, len(array)):\n",
    "        key = array[i]\n",
    "        j = i - 1\n",
    "        while j >= 0:\n",
    "            if key >= array[j]:\n",
    "                comparisons += 1\n",
    "                break\n",
    "            else:\n",
    "                array[j + 1] = array[j]\n",
    "                comparisons += 1\n",
    "                j -= 1\n",
    "        array[j + 1] = key\n",
    "    \n",
    "    return array, comparisons\n",
    "\n",
    "\n",
    "def MergeArray(lArr,rArr):\n",
    "    \n",
    "    l = 0\n",
    "    r = 0\n",
    "    comparisons = 0\n",
    "    Arr = []\n",
    "    \n",
    "    while l < len(lArr) and r < len(rArr):\n",
    "        if lArr[l] < rArr[r]:\n",
    "            Arr.append(lArr[l])\n",
    "            l += 1\n",
    "        elif lArr[l] > rArr[r]:\n",
    "            Arr.append(rArr[r])\n",
    "            r += 1\n",
    "        else:\n",
    "            Arr.append(lArr[l])\n",
    "            Arr.append(rArr[r])\n",
    "            l += 1\n",
    "            r += 1\n",
    "        comparisons += 1\n",
    "    \n",
    "    while l < len(lArr):\n",
    "        Arr.append(lArr[l])\n",
    "        l += 1\n",
    "    \n",
    "    while r < len(rArr):\n",
    "        Arr.append(rArr[r])\n",
    "        r += 1\n",
    "    \n",
    "    return Arr, comparisons\n",
    "\n",
    "\n",
    "def HybridSort(array,S):\n",
    "    \n",
    "    Start_time = time.time()\n",
    "    comparisons = 0\n",
    "    \n",
    "    for i in range(0,len(array),S):\n",
    "        a,b = InsertionSort(array[i : i + S])\n",
    "        array[i : i + S] = a\n",
    "        comparisons += b\n",
    "    merge = S\n",
    "    \n",
    "    while merge < len(array):\n",
    "        for i in range(0,len(array),2*merge):\n",
    "            c,d = MergeArray(array[i : i + merge],array[i + merge : i + 2 * merge])\n",
    "            array[i : i + 2 * merge] = c\n",
    "            comparisons += d\n",
    "        merge *= 2\n",
    "    \n",
    "    End_time = time.time()\n",
    "    runtime = float(\"{0:.30f}\".format(1000*(End_time - Start_time)))\n",
    "    \n",
    "    return comparisons, runtime\n"
   ]
  },
  {
   "cell_type": "code",
   "execution_count": 16,
   "id": "a1df1edb",
   "metadata": {},
   "outputs": [
    {
     "name": "stdout",
     "output_type": "stream",
     "text": [
      "Hybrid sort time 10333.309888839722 ms\n",
      "Merge sort time 9783.72573852539 ms\n"
     ]
    }
   ],
   "source": [
    "Test_arr = np.random.randint(1,1000000,1000000)\n",
    "Test_arr_copy = np.copy(Test_arr)\n",
    "#print(\"Random Array\")\n",
    "#print(Test_arr)\n",
    "#print()\n",
    "print(\"Hybrid sort time\",HybridSort(Test_arr,14)[1], \"ms\")\n",
    "print(\"Merge sort time\",HybridSort(Test_arr_copy,1)[1], \"ms\")\n",
    "#print(\"Sorted Array\")\n",
    "#print(Test_arr)"
   ]
  },
  {
   "cell_type": "code",
   "execution_count": 4,
   "id": "886abc3d",
   "metadata": {},
   "outputs": [],
   "source": [
    "comparisons = []\n",
    "times = []\n",
    "subarray = []\n",
    "Test_Case = np.arange(1000, 0, -1)\n",
    "\n",
    "for i in range(1,65):\n",
    "    Test_Case_1 = Test_Case.copy()\n",
    "    subarray.append(i)\n",
    "    \n",
    "    key, runtime = HybridSort(Test_Case_1,i)\n",
    "        \n",
    "    comparisons.append(key)\n",
    "    times.append(runtime)"
   ]
  },
  {
   "cell_type": "code",
   "execution_count": 5,
   "id": "a473fb15",
   "metadata": {},
   "outputs": [
    {
     "data": {
      "image/png": "[encoded data removed]",
      "text/plain": [
       "<Figure size 432x288 with 1 Axes>"
      ]
     },
     "metadata": {
      "needs_background": "light"
     },
     "output_type": "display_data"
    }
   ],
   "source": [
    "fig = plt.figure()\n",
    "ax = fig.add_subplot(1, 1, 1)\n",
    "ax.plot(subarray, times)\n",
    "ax.grid(True)\n",
    "plt.xticks(range(0,66,5))\n",
    "plt.xlabel('subarray size (S)')\n",
    "plt.ylabel('times (ms)')\n",
    "plt.show()"
   ]
  },
  {
   "cell_type": "code",
   "execution_count": 6,
   "id": "1f8bf905",
   "metadata": {},
   "outputs": [
    {
     "data": {
      "image/png": "[encoded data removed]",
      "text/plain": [
       "<Figure size 432x288 with 1 Axes>"
      ]
     },
     "metadata": {
      "needs_background": "light"
     },
     "output_type": "display_data"
    }
   ],
   "source": [
    "fig = plt.figure()\n",
    "ax = fig.add_subplot(1, 1, 1)\n",
    "ax.plot(subarray, comparisons)\n",
    "ax.grid(True)\n",
    "plt.xticks(range(0,66,5))\n",
    "plt.xlabel('subarray size (S)')\n",
    "plt.ylabel('No. of Comparisons')\n",
    "plt.show()"
   ]
  },
  {
   "cell_type": "code",
   "execution_count": null,
   "id": "b74a7072",
   "metadata": {},
   "outputs": [],
   "source": []
  }
 ],
 "metadata": {
  "kernelspec": {
   "display_name": "Python 3",
   "language": "python",
   "name": "python3"
  },
  "language_info": {
   "codemirror_mode": {
    "name": "ipython",
    "version": 3
   },
   "file_extension": ".py",
   "mimetype": "text/x-python",
   "name": "python",
   "nbconvert_exporter": "python",
   "pygments_lexer": "ipython3",
   "version": "3.9.5"
  }
 },
 "nbformat": 4,
 "nbformat_minor": 5
}
