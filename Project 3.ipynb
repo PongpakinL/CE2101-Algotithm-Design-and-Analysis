{
 "cells": [
  {
   "cell_type": "code",
   "execution_count": 1,
   "id": "f513275d",
   "metadata": {},
   "outputs": [],
   "source": [
    "def unboundedKnapsack(W, n, val, wt):\n",
    " \n",
    "    # dp[i] is going to store maximum\n",
    "    # value with knapsack capacity i.\n",
    "    dp = [0 for i in range(W + 1)]\n",
    " \n",
    "    ans = 0\n",
    " \n",
    "    # Fill dp[] using above recursive formula\n",
    "    for i in range(W + 1):\n",
    "        for j in range(n):\n",
    "            if (wt[j] <= i):\n",
    "                dp[i] = max(dp[i], dp[i - wt[j]] + val[j])\n",
    " \n",
    "    return dp[W]"
   ]
  },
  {
   "cell_type": "code",
   "execution_count": 5,
   "id": "e9e56a10",
   "metadata": {},
   "outputs": [
    {
     "name": "stdout",
     "output_type": "stream",
     "text": [
      "16\n"
     ]
    }
   ],
   "source": [
    "# Driver program\n",
    "W = 14\n",
    "val = [7, 6, 9]\n",
    "wt = [5, 6, 8]\n",
    "n = len(val)\n",
    " \n",
    "print(unboundedKnapsack(W, n, val, wt))"
   ]
  },
  {
   "cell_type": "code",
   "execution_count": null,
   "id": "b495a1d2",
   "metadata": {},
   "outputs": [],
   "source": []
  }
 ],
 "metadata": {
  "kernelspec": {
   "display_name": "Python 3",
   "language": "python",
   "name": "python3"
  },
  "language_info": {
   "codemirror_mode": {
    "name": "ipython",
    "version": 3
   },
   "file_extension": ".py",
   "mimetype": "text/x-python",
   "name": "python",
   "nbconvert_exporter": "python",
   "pygments_lexer": "ipython3",
   "version": "3.9.5"
  }
 },
 "nbformat": 4,
 "nbformat_minor": 5
}
